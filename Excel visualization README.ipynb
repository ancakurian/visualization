{
 "cells": [
  {
   "cell_type": "markdown",
   "metadata": {},
   "source": [
    "The following visualization, \"Cultural Festivals Funding Program Recipients for Fiscal Year 2024\", uses the data provided by the city of Toronto. The data records the grants awarded by the city of Toronto in the fiscal year 2024 to different local organizations for cultural festivals.\n",
    "\n",
    "The chart is produced in Excel. As a line chart, the visualization includes the $ value of the grants and the cultural events to which they were allocated. \n",
    "Filters: the visualization is intended for the use of local city councils who can check the funds awarded by selecting a city ward of interest (dropdown \"View\" box). At the same time, local organizations can select the view in the chart based on the cultural event of interst (dropdown \"Project Name\" box).\n",
    "As the data contains outliers, by selecting not to include the outlier values, the \"Project Name\" filter also allows to view the festivals that get similar $ value grants, for a comparison. \n",
    "\n",
    "The chart is monochrome, presenting financial data rather than aesthetical elements representing the cultural festivals. \n"
   ]
  }
 ],
 "metadata": {
  "language_info": {
   "name": "python"
  }
 },
 "nbformat": 4,
 "nbformat_minor": 2
}
